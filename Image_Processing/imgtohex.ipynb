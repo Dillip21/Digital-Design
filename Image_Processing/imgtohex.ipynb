{
 "cells": [
  {
   "cell_type": "code",
   "execution_count": 2,
   "metadata": {},
   "outputs": [
    {
     "name": "stdout",
     "output_type": "stream",
     "text": [
      "Requirement already satisfied: pillow in c:\\users\\dilli\\appdata\\local\\programs\\python\\python312\\lib\\site-packages (10.3.0)\n"
     ]
    }
   ],
   "source": [
    "!pip install pillow\n",
    "\n"
   ]
  },
  {
   "cell_type": "code",
   "execution_count": 1,
   "metadata": {},
   "outputs": [
    {
     "name": "stdout",
     "output_type": "stream",
     "text": [
      "Text file write done\n"
     ]
    }
   ],
   "source": [
    "from PIL import Image\n",
    "import numpy as np\n",
    "\n",
    "# Open the image file\n",
    "img = Image.open('download.jpeg')\n",
    "img = img.convert('RGB')  # Ensure image is in RGB format\n",
    "\n",
    "# Convert image to numpy array\n",
    "img_array = np.array(img)\n",
    "\n",
    "# Get image dimensions\n",
    "rows, cols, _ = img_array.shape\n",
    "\n",
    "# Initialize the array to store pixel values\n",
    "a = []\n",
    "\n",
    "# Process the image from bottom to top\n",
    "for i in range(rows-1, -1, -1):\n",
    "    for j in range(cols):\n",
    "        pixel = img_array[i, j]\n",
    "        a.extend(pixel)\n",
    "\n",
    "# Write the data to a hex file\n",
    "with open('input.hex', 'w') as fid:\n",
    "    for value in a:\n",
    "        fid.write(f'{value:02x}\\n')\n",
    "\n",
    "print('Text file write done')\n"
   ]
  }
 ],
 "metadata": {
  "kernelspec": {
   "display_name": "Python 3",
   "language": "python",
   "name": "python3"
  },
  "language_info": {
   "codemirror_mode": {
    "name": "ipython",
    "version": 3
   },
   "file_extension": ".py",
   "mimetype": "text/x-python",
   "name": "python",
   "nbconvert_exporter": "python",
   "pygments_lexer": "ipython3",
   "version": "3.12.1"
  }
 },
 "nbformat": 4,
 "nbformat_minor": 2
}
